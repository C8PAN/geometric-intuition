{
 "cells": [
  {
   "cell_type": "markdown",
   "metadata": {},
   "source": [
    "# Explaining ML\n",
    "## A Geometric interpretation"
   ]
  },
  {
   "cell_type": "markdown",
   "metadata": {},
   "source": [
    "$$ f(x) \\approx y  $$"
   ]
  },
  {
   "cell_type": "markdown",
   "metadata": {},
   "source": [
    "$$\n",
    "f: x \\mapsto \\mathbb{R} \n",
    "$$\n"
   ]
  },
  {
   "cell_type": "markdown",
   "metadata": {},
   "source": [
    "$$ E: x \\mapsto \\mathbb{R}^d $$ \n"
   ]
  },
  {
   "cell_type": "markdown",
   "metadata": {},
   "source": [
    "More correctly...\n",
    "$$ \\phi_i(x) = \\frac{1}{\\left|\\textbf{F} \\setminus i\\right|}\n",
    "\\sum_{c \\in \\textbf{F} \\setminus i} f_{c \\bigcup i}(x) - f_c(x)\n",
    "$$\t"
   ]
  },
  {
   "cell_type": "markdown",
   "metadata": {},
   "source": [
    "Easier to understand...\n",
    "$$ \\frac{1}{N}\n",
    "\\sum_{c \\in \\{\\textbf{F} - i\\}} f_{c + i}(x) - f_c(x)\n",
    "$$\t"
   ]
  },
  {
   "cell_type": "markdown",
   "metadata": {},
   "source": [
    "$$ S(x^\\prime) \\approx f(x)$$\n",
    "when\n",
    "$$ x^\\prime \\approx x  $$"
   ]
  },
  {
   "cell_type": "code",
   "execution_count": null,
   "metadata": {},
   "outputs": [],
   "source": []
  }
 ],
 "metadata": {
  "kernelspec": {
   "display_name": "Python 3",
   "language": "python",
   "name": "python3"
  },
  "language_info": {
   "codemirror_mode": {
    "name": "ipython",
    "version": 3
   },
   "file_extension": ".py",
   "mimetype": "text/x-python",
   "name": "python",
   "nbconvert_exporter": "python",
   "pygments_lexer": "ipython3",
   "version": "3.7.3"
  }
 },
 "nbformat": 4,
 "nbformat_minor": 4
}
