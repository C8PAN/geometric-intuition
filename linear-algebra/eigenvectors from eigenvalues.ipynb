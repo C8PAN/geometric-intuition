{
 "cells": [
  {
   "cell_type": "code",
   "execution_count": 1,
   "metadata": {},
   "outputs": [],
   "source": [
    "import numpy as np"
   ]
  },
  {
   "cell_type": "code",
   "execution_count": 2,
   "metadata": {},
   "outputs": [],
   "source": [
    "def subidx(n:int, remove:int) -> list:\n",
    "    out = list(range(n))\n",
    "    out.remove(remove)\n",
    "    return out\n",
    "\n",
    "def submatrix(A:np.ndarray, j:int) -> np.ndarray:\n",
    "    n = A.shape[0]\n",
    "    s = subidx(n,j)\n",
    "    o = A[s,:]\n",
    "    o = o[:,s]\n",
    "    return o"
   ]
  },
  {
   "cell_type": "code",
   "execution_count": 3,
   "metadata": {},
   "outputs": [],
   "source": [
    "def vector_from_values(A:np.ndarray, i:int, j:int):\n",
    "    # Calculate eigenvector element value from eigenvalues of matrix and submatrix\n",
    "    # following https://arxiv.org/pdf/1908.03795.pdf\n",
    "    lam, v = np.linalg.eig(A)\n",
    "    n = len(lam)\n",
    "    M = submatrix(A,j)\n",
    "    lam2, _ = np.linalg.eig(M)\n",
    "    left = np.prod([lam[i] - lam[k] for k in range(n) if k!=i])\n",
    "    right = np.prod([lam[i] - lam2[k] for k in range(n-1)])\n",
    "    newval = right/left\n",
    "    print(f\"Eigenvector squared calculated by...\")\n",
    "    print(f\"    numpy: {np.abs(v[j,i]**2)}\")\n",
    "    print(f\"new-fancy: {newval}\")\n"
   ]
  },
  {
   "cell_type": "code",
   "execution_count": 4,
   "metadata": {},
   "outputs": [
    {
     "data": {
      "text/plain": [
       "array([[7.46671979e-01, 3.95526305e-01, 3.60001244e-01, 2.45016964e-03,\n",
       "        2.29319888e-02, 3.28220875e-01, 2.90996488e-01],\n",
       "       [3.95526305e-01, 3.05139049e-02, 1.57749901e-01, 4.52805534e-01,\n",
       "        1.44910666e-01, 7.84174713e-01, 1.94273551e-01],\n",
       "       [3.60001244e-01, 1.57749901e-01, 8.86000289e-03, 3.59488850e-01,\n",
       "        1.18218590e-01, 1.09649418e-01, 5.68490454e-02],\n",
       "       [2.45016964e-03, 4.52805534e-01, 3.59488850e-01, 2.96784033e-02,\n",
       "        1.90615424e-01, 2.66889226e-01, 1.66701820e-01],\n",
       "       [2.29319888e-02, 1.44910666e-01, 1.18218590e-01, 1.90615424e-01,\n",
       "        7.95688206e-02, 2.84076808e-02, 6.30036775e-01],\n",
       "       [3.28220875e-01, 7.84174713e-01, 1.09649418e-01, 2.66889226e-01,\n",
       "        2.84076808e-02, 3.42934785e-01, 8.11813316e-02],\n",
       "       [2.90996488e-01, 1.94273551e-01, 5.68490454e-02, 1.66701820e-01,\n",
       "        6.30036775e-01, 8.11813316e-02, 2.65726163e-05]])"
      ]
     },
     "execution_count": 4,
     "metadata": {},
     "output_type": "execute_result"
    }
   ],
   "source": [
    "aa = np.random.rand(7,7)\n",
    "# Make it symmetric, which is also Hermitian\n",
    "B = aa * (aa.T)\n",
    "B"
   ]
  },
  {
   "cell_type": "code",
   "execution_count": 5,
   "metadata": {},
   "outputs": [
    {
     "name": "stdout",
     "output_type": "stream",
     "text": [
      "Eigenvector squared calculated by...\n",
      "    numpy: 0.35750174104437843\n",
      "new-fancy: 0.3575017410443798\n"
     ]
    }
   ],
   "source": [
    "vector_from_values(B, 2, 4)"
   ]
  },
  {
   "cell_type": "code",
   "execution_count": 6,
   "metadata": {},
   "outputs": [
    {
     "name": "stdout",
     "output_type": "stream",
     "text": [
      "Eigenvector squared calculated by...\n",
      "    numpy: 0.07296013485550616\n",
      "new-fancy: 0.07296013485550847\n"
     ]
    }
   ],
   "source": [
    "vector_from_values(B, 0, 6)"
   ]
  },
  {
   "cell_type": "code",
   "execution_count": 7,
   "metadata": {},
   "outputs": [
    {
     "name": "stdout",
     "output_type": "stream",
     "text": [
      "Eigenvector squared calculated by...\n",
      "    numpy: 0.1514014259086819\n",
      "new-fancy: 0.15140142590868172\n"
     ]
    }
   ],
   "source": [
    "vector_from_values(B, 1, 3)"
   ]
  },
  {
   "cell_type": "code",
   "execution_count": null,
   "metadata": {},
   "outputs": [],
   "source": []
  }
 ],
 "metadata": {
  "kernelspec": {
   "display_name": "Python 3",
   "language": "python",
   "name": "python3"
  },
  "language_info": {
   "codemirror_mode": {
    "name": "ipython",
    "version": 3
   },
   "file_extension": ".py",
   "mimetype": "text/x-python",
   "name": "python",
   "nbconvert_exporter": "python",
   "pygments_lexer": "ipython3",
   "version": "3.7.4"
  }
 },
 "nbformat": 4,
 "nbformat_minor": 2
}
